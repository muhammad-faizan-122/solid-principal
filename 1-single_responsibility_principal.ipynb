{
 "cells": [
  {
   "cell_type": "markdown",
   "metadata": {},
   "source": [
    "1. Single Responsibility Principle (SRP)\n",
    "\n",
    "A class should have only one reason to change, meaning it should have only one job or responsibility."
   ]
  },
  {
   "cell_type": "code",
   "execution_count": 2,
   "metadata": {},
   "outputs": [],
   "source": [
    "# Bad Example: A class handling both user data and file operations\n",
    "class UserProfile:\n",
    "    def __init__(self, name, email):\n",
    "        self.name = name\n",
    "        self.email = email\n",
    "    \n",
    "    def save_to_file(self, filename):\n",
    "        with open(filename, 'w') as file:\n",
    "            file.write(f'Name: {self.name}\\nEmail: {self.email}')\n",
    "\n",
    "\n",
    "\n",
    "user = UserProfile(\"Faizan\", \"muhammad.faizan@botwa.ai\")\n",
    "user.save_to_file(\"profile.txt\")\n"
   ]
  },
  {
   "cell_type": "code",
   "execution_count": 2,
   "metadata": {},
   "outputs": [],
   "source": [
    "# Good Example: Separate classes for user data and file operations\n",
    "\n",
    "class UserProfile:\n",
    "    def __init__(self, name, email):\n",
    "        self.name = name\n",
    "        self.email = email\n",
    "\n",
    "\n",
    "class FileManager:\n",
    "    def save_to_file(self, user, filename):\n",
    "        with open(filename, 'w') as file:\n",
    "            file.write(f'Name: {user.name}\\nEmail: {user.email}')\n",
    "\n",
    "\n",
    "user = UserProfile(\"Faizan\", \"muhammad.faizan@redbuffer.net\")\n",
    "file_handler = FileManager()\n",
    "file_handler.save_to_file(user, \"profile1.txt\")\n"
   ]
  },
  {
   "cell_type": "code",
   "execution_count": 3,
   "metadata": {},
   "outputs": [
    {
     "name": "stdout",
     "output_type": "stream",
     "text": [
      "Order ID: 1, Total: 110.00000000000001\n"
     ]
    }
   ],
   "source": [
    "# bad practice\n",
    "\n",
    "class Order:\n",
    "    def __init__(self, order_id, amount):\n",
    "        self.order_id = order_id\n",
    "        self.amount = amount\n",
    "\n",
    "    def calculate_total(self):\n",
    "        # logic to calculate total amount\n",
    "        return self.amount * 1.1  # assuming 10% tax\n",
    "    \n",
    "    def print_order(self):\n",
    "        print(f\"Order ID: {self.order_id}, Total: {self.calculate_total()}\")\n",
    "\n",
    "    def log_order(self):\n",
    "        with open('order_log.txt', 'a') as log_file:\n",
    "            log_file.write(f\"Order ID: {self.order_id}, Total: {self.calculate_total()}\\n\")\n",
    "\n",
    "\n",
    "# Usage\n",
    "order = Order(1, 100)\n",
    "order.print_order()\n",
    "order.log_order()"
   ]
  },
  {
   "cell_type": "code",
   "execution_count": 4,
   "metadata": {},
   "outputs": [
    {
     "name": "stdout",
     "output_type": "stream",
     "text": [
      "Order ID: 1, Total: 110.00000000000001\n"
     ]
    }
   ],
   "source": [
    "# good practice\n",
    "\n",
    "class Order:\n",
    "    def __init__(self, order_id, amount):\n",
    "        self.order_id = order_id\n",
    "        self.amount = amount\n",
    "\n",
    "    def calculate_total(self):\n",
    "        return self.amount * 1.1  # assuming 10% tax\n",
    "\n",
    "class OrderPrinter:\n",
    "    def print_order(self, order):\n",
    "        print(f\"Order ID: {order.order_id}, Total: {order.calculate_total()}\")\n",
    "\n",
    "class OrderLogger:\n",
    "    def log_order(self, order):\n",
    "        with open('order_log.txt', 'a') as log_file:\n",
    "            log_file.write(f\"Order ID: {order.order_id}, Total: {order.calculate_total()}\\n\")\n",
    "\n",
    "# Usage\n",
    "order = Order(1, 100)\n",
    "order_printer = OrderPrinter()\n",
    "order_logger = OrderLogger()\n",
    "\n",
    "order_printer.print_order(order)\n",
    "order_logger.log_order(order)\n"
   ]
  },
  {
   "cell_type": "code",
   "execution_count": 5,
   "metadata": {},
   "outputs": [
    {
     "ename": "ValueError",
     "evalue": "Invalid user data",
     "output_type": "error",
     "traceback": [
      "\u001b[0;31m---------------------------------------------------------------------------\u001b[0m",
      "\u001b[0;31mValueError\u001b[0m                                Traceback (most recent call last)",
      "Cell \u001b[0;32mIn[5], line 18\u001b[0m\n\u001b[1;32m     14\u001b[0m         \u001b[38;5;66;03m# logic to save user to the database\u001b[39;00m\n\u001b[1;32m     15\u001b[0m \n\u001b[1;32m     16\u001b[0m \u001b[38;5;66;03m# Usage\u001b[39;00m\n\u001b[1;32m     17\u001b[0m user \u001b[38;5;241m=\u001b[39m User(\u001b[38;5;124m'\u001b[39m\u001b[38;5;124mjd\u001b[39m\u001b[38;5;124m'\u001b[39m, \u001b[38;5;124m'\u001b[39m\u001b[38;5;124mpassword123\u001b[39m\u001b[38;5;124m'\u001b[39m)\n\u001b[0;32m---> 18\u001b[0m \u001b[43muser\u001b[49m\u001b[38;5;241;43m.\u001b[39;49m\u001b[43msave\u001b[49m\u001b[43m(\u001b[49m\u001b[43m)\u001b[49m\n",
      "Cell \u001b[0;32mIn[5], line 13\u001b[0m, in \u001b[0;36mUser.save\u001b[0;34m(self)\u001b[0m\n\u001b[1;32m     11\u001b[0m \u001b[38;5;28;01mdef\u001b[39;00m \u001b[38;5;21msave\u001b[39m(\u001b[38;5;28mself\u001b[39m):\n\u001b[1;32m     12\u001b[0m     \u001b[38;5;28;01mif\u001b[39;00m \u001b[38;5;129;01mnot\u001b[39;00m \u001b[38;5;28mself\u001b[39m\u001b[38;5;241m.\u001b[39mis_valid():\n\u001b[0;32m---> 13\u001b[0m         \u001b[38;5;28;01mraise\u001b[39;00m \u001b[38;5;167;01mValueError\u001b[39;00m(\u001b[38;5;124m\"\u001b[39m\u001b[38;5;124mInvalid user data\u001b[39m\u001b[38;5;124m\"\u001b[39m)\n",
      "\u001b[0;31mValueError\u001b[0m: Invalid user data"
     ]
    }
   ],
   "source": [
    "class User:\n",
    "    def __init__(self, username, password):\n",
    "        self.username = username\n",
    "        self.password = password\n",
    "\n",
    "    def is_valid(self):\n",
    "        if len(self.username) < 3 or len(self.password) < 8:\n",
    "            return False\n",
    "        return True\n",
    "\n",
    "    def save(self):\n",
    "        if not self.is_valid():\n",
    "            raise ValueError(\"Invalid user data\")\n",
    "        # logic to save user to the database\n",
    "\n",
    "# Usage\n",
    "user = User('jd', 'password123')\n",
    "user.save()\n"
   ]
  },
  {
   "cell_type": "code",
   "execution_count": 11,
   "metadata": {},
   "outputs": [],
   "source": [
    "class User:\n",
    "    def __init__(self, username, password):\n",
    "        self.username = username\n",
    "        self.password = password\n",
    "\n",
    "class UserValidator:\n",
    "    def is_valid(self, user):\n",
    "        if len(user.username) < 3 or len(user.password) < 8:\n",
    "            return False\n",
    "        return True\n",
    "\n",
    "class UserRepository:\n",
    "    def save(self, user, filename):\n",
    "        with open(filename, 'w') as file:\n",
    "            file.write(f'username: {user.username}\\npassword: {user.password}')\n",
    "\n",
    "\n",
    "user = User('faizanahmed', 'password123dfdfdf')\n",
    "validator = UserValidator()\n",
    "\n",
    "if validator.is_valid(user):\n",
    "    repository = UserRepository()\n",
    "    repository.save(user, \"repo.txt\")\n",
    "\n",
    "else:\n",
    "    raise ValueError(\"Invalid Username or password\")"
   ]
  },
  {
   "cell_type": "code",
   "execution_count": 12,
   "metadata": {},
   "outputs": [
    {
     "name": "stdout",
     "output_type": "stream",
     "text": [
      "Email sent to user@example.com with message: Hello, World!\n",
      "SMS sent to 123-456-7890 with message: Hello, World!\n"
     ]
    }
   ],
   "source": [
    "class Notification:\n",
    "    def __init__(self, message):\n",
    "        self.message = message\n",
    "\n",
    "    def send_email(self, email):\n",
    "        # logic to send email\n",
    "        print(f\"Email sent to {email} with message: {self.message}\")\n",
    "\n",
    "    def send_sms(self, phone_number):\n",
    "        # logic to send SMS\n",
    "        print(f\"SMS sent to {phone_number} with message: {self.message}\")\n",
    "\n",
    "# Usage\n",
    "notification = Notification(\"Hello, World!\")\n",
    "notification.send_email(\"user@example.com\")\n",
    "notification.send_sms(\"123-456-7890\")\n"
   ]
  },
  {
   "cell_type": "code",
   "execution_count": null,
   "metadata": {},
   "outputs": [],
   "source": [
    "class Notification:\n",
    "    def __init__(self, message):\n",
    "        self.message = message\n",
    "\n",
    "class EmailSender:\n",
    "    def send(self, email):\n",
    "        \"\"\"logic to send email\"\"\"\n",
    "        print(f\"Email sent to {email} with message: {self.message}\")\n",
    "\n",
    "class SMSSender:\n",
    "    def send(self, phone_number):\n",
    "        \"\"\"logic to send SMS\"\"\"\n",
    "        print(f\"SMS sent to {phone_number} with message: {self.message}\")\n",
    "\n",
    "\n",
    "# Usage\n",
    "notification = Notification(\"Hello, World!\")\n",
    "email_sender = EmailSender()\n",
    "sms_sender = SMSSender()"
   ]
  }
 ],
 "metadata": {
  "kernelspec": {
   "display_name": "test-env",
   "language": "python",
   "name": "python3"
  },
  "language_info": {
   "codemirror_mode": {
    "name": "ipython",
    "version": 3
   },
   "file_extension": ".py",
   "mimetype": "text/x-python",
   "name": "python",
   "nbconvert_exporter": "python",
   "pygments_lexer": "ipython3",
   "version": "3.10.14"
  }
 },
 "nbformat": 4,
 "nbformat_minor": 2
}
