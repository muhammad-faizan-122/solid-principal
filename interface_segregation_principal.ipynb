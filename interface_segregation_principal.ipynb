{
 "cells": [
  {
   "cell_type": "markdown",
   "metadata": {},
   "source": [
    "4. Interface Segregation Principle (ISP)\n",
    "\n",
    "Clients should not be forced to depend on interfaces they do not use. Split large interfaces into smaller, more specific ones.\n",
    "\n"
   ]
  },
  {
   "cell_type": "code",
   "execution_count": 1,
   "metadata": {},
   "outputs": [
    {
     "name": "stdout",
     "output_type": "stream",
     "text": [
      "Human working\n",
      "Human eating\n",
      "Robot working\n"
     ]
    }
   ],
   "source": [
    "# Bad Example: A large interface with methods not needed by all classes\n",
    "class Worker:\n",
    "    def work(self):\n",
    "        pass\n",
    "\n",
    "    def eat(self):\n",
    "        pass\n",
    "\n",
    "class HumanWorker(Worker):\n",
    "    def work(self):\n",
    "        print(\"Human working\")\n",
    "\n",
    "    def eat(self):\n",
    "        print(\"Human eating\")\n",
    "\n",
    "class RobotWorker(Worker):\n",
    "    def work(self):\n",
    "        print(\"Robot working\")\n",
    "\n",
    "    def eat(self):\n",
    "        raise NotImplementedError(\"Robots don't eat\")\n",
    "\n",
    "\n",
    "# Good Example: Segregating interfaces\n",
    "class Workable:\n",
    "    def work(self):\n",
    "        pass\n",
    "\n",
    "class Eatable:\n",
    "    def eat(self):\n",
    "        pass\n",
    "\n",
    "class HumanWorker(Workable, Eatable):\n",
    "    def work(self):\n",
    "        print(\"Human working\")\n",
    "\n",
    "    def eat(self):\n",
    "        print(\"Human eating\")\n",
    "\n",
    "class RobotWorker(Workable):\n",
    "    def work(self):\n",
    "        print(\"Robot working\")\n",
    "\n",
    "# Usage\n",
    "human = HumanWorker()\n",
    "robot = RobotWorker()\n",
    "\n",
    "human.work()\n",
    "human.eat()\n",
    "robot.work()\n"
   ]
  },
  {
   "cell_type": "code",
   "execution_count": 3,
   "metadata": {},
   "outputs": [
    {
     "name": "stdout",
     "output_type": "stream",
     "text": [
      "Printing document\n",
      "Scanning document\n",
      "Faxing document\n",
      "Printing document\n"
     ]
    }
   ],
   "source": [
    "class Printer:\n",
    "    def print_document(self, document):\n",
    "        pass\n",
    "\n",
    "class Scanner:\n",
    "    def scan_document(self, document):\n",
    "        pass\n",
    "\n",
    "class Fax:\n",
    "    def fax_document(self, document):\n",
    "        pass\n",
    "\n",
    "class MultiFunctionPrinter(Printer, Scanner, Fax):\n",
    "    def print_document(self, document):\n",
    "        print(\"Printing document\")\n",
    "\n",
    "    def scan_document(self, document):\n",
    "        print(\"Scanning document\")\n",
    "\n",
    "    def fax_document(self, document):\n",
    "        print(\"Faxing document\")\n",
    "\n",
    "class SimplePrinter(Printer):\n",
    "    def print_document(self, document):\n",
    "        print(\"Printing document\")\n",
    "\n",
    "# Usage\n",
    "def print_doc(printer, document):\n",
    "    printer.print_document(document)\n",
    "\n",
    "def scan_doc(scanner, document):\n",
    "    scanner.scan_document(document)\n",
    "\n",
    "def fax_doc(fax, document):\n",
    "    fax.fax_document(document)\n",
    "\n",
    "\n",
    "mfp = MultiFunctionPrinter()\n",
    "simple_printer = SimplePrinter()\n",
    "\n",
    "print_doc(mfp, \"My Document\")  # Output: Printing document\n",
    "scan_doc(mfp, \"My Document\")   # Output: Scanning document\n",
    "fax_doc(mfp, \"My Document\")    # Output: Faxing document\n",
    "\n",
    "print_doc(simple_printer, \"My Document\")  # Output: Printing document\n",
    "# No need to call scan_doc or fax_doc for simple_printer\n"
   ]
  },
  {
   "cell_type": "code",
   "execution_count": 4,
   "metadata": {},
   "outputs": [
    {
     "name": "stdout",
     "output_type": "stream",
     "text": [
      "Playing audio\n"
     ]
    },
    {
     "ename": "Exception",
     "evalue": "AudioPlayer cannot play video",
     "output_type": "error",
     "traceback": [
      "\u001b[0;31m---------------------------------------------------------------------------\u001b[0m",
      "\u001b[0;31mException\u001b[0m                                 Traceback (most recent call last)",
      "Cell \u001b[0;32mIn[4], line 33\u001b[0m\n\u001b[1;32m     30\u001b[0m video_player \u001b[38;5;241m=\u001b[39m VideoPlayer()\n\u001b[1;32m     32\u001b[0m play_audio(audio_player)  \u001b[38;5;66;03m# Output: Playing audio\u001b[39;00m\n\u001b[0;32m---> 33\u001b[0m \u001b[43mplay_video\u001b[49m\u001b[43m(\u001b[49m\u001b[43maudio_player\u001b[49m\u001b[43m)\u001b[49m  \u001b[38;5;66;03m# Raises exception\u001b[39;00m\n\u001b[1;32m     35\u001b[0m play_audio(video_player)  \u001b[38;5;66;03m# Output: Playing audio\u001b[39;00m\n\u001b[1;32m     36\u001b[0m play_video(video_player)  \u001b[38;5;66;03m# Output: Playing video\u001b[39;00m\n",
      "Cell \u001b[0;32mIn[4], line 27\u001b[0m, in \u001b[0;36mplay_video\u001b[0;34m(player)\u001b[0m\n\u001b[1;32m     26\u001b[0m \u001b[38;5;28;01mdef\u001b[39;00m \u001b[38;5;21mplay_video\u001b[39m(player):\n\u001b[0;32m---> 27\u001b[0m     \u001b[43mplayer\u001b[49m\u001b[38;5;241;43m.\u001b[39;49m\u001b[43mplay_video\u001b[49m\u001b[43m(\u001b[49m\u001b[43m)\u001b[49m\n",
      "Cell \u001b[0;32mIn[4], line 13\u001b[0m, in \u001b[0;36mAudioPlayer.play_video\u001b[0;34m(self)\u001b[0m\n\u001b[1;32m     12\u001b[0m \u001b[38;5;28;01mdef\u001b[39;00m \u001b[38;5;21mplay_video\u001b[39m(\u001b[38;5;28mself\u001b[39m):\n\u001b[0;32m---> 13\u001b[0m     \u001b[38;5;28;01mraise\u001b[39;00m \u001b[38;5;167;01mException\u001b[39;00m(\u001b[38;5;124m\"\u001b[39m\u001b[38;5;124mAudioPlayer cannot play video\u001b[39m\u001b[38;5;124m\"\u001b[39m)\n",
      "\u001b[0;31mException\u001b[0m: AudioPlayer cannot play video"
     ]
    }
   ],
   "source": [
    "class MediaPlayer:\n",
    "    def play_audio(self):\n",
    "        pass\n",
    "\n",
    "    def play_video(self):\n",
    "        pass\n",
    "\n",
    "class AudioPlayer(MediaPlayer):\n",
    "    def play_audio(self):\n",
    "        print(\"Playing audio\")\n",
    "\n",
    "    def play_video(self):\n",
    "        raise Exception(\"AudioPlayer cannot play video\")\n",
    "\n",
    "class VideoPlayer(MediaPlayer):\n",
    "    def play_audio(self):\n",
    "        print(\"Playing audio\")\n",
    "\n",
    "    def play_video(self):\n",
    "        print(\"Playing video\")\n",
    "\n",
    "# Usage\n",
    "def play_audio(player):\n",
    "    player.play_audio()\n",
    "\n",
    "def play_video(player):\n",
    "    player.play_video()\n",
    "\n",
    "audio_player = AudioPlayer()\n",
    "video_player = VideoPlayer()\n",
    "\n",
    "play_audio(audio_player)  # Output: Playing audio\n",
    "play_video(audio_player)  # Raises exception\n",
    "\n",
    "play_audio(video_player)  # Output: Playing audio\n",
    "play_video(video_player)  # Output: Playing video\n"
   ]
  },
  {
   "cell_type": "code",
   "execution_count": null,
   "metadata": {},
   "outputs": [],
   "source": [
    "class AudioPlayer:\n",
    "    def play_audio(self):\n",
    "        pass\n",
    "\n",
    "class VideoPlayer:\n",
    "    def play_video(self):\n",
    "        pass\n",
    "\n",
    "class AdvancedMediaPlayer(AudioPlayer, VideoPlayer):\n",
    "    def play_audio(self):\n",
    "        print(\"Playing audio\")\n",
    "\n",
    "    def play_video(self):\n",
    "        print(\"Playing video\")\n",
    "\n",
    "class SimpleAudioPlayer(AudioPlayer):\n",
    "    def play_audio(self):\n",
    "        print(\"Playing audio\")\n",
    "\n",
    "# Usage\n",
    "def play_audio(player):\n",
    "    player.play_audio()\n",
    "\n",
    "def play_video(player):\n",
    "    if isinstance(player, VideoPlayer):\n",
    "        player.play_video()\n",
    "\n",
    "audio_player = SimpleAudioPlayer()\n",
    "media_player = AdvancedMediaPlayer()\n",
    "\n",
    "play_audio(audio_player)  # Output: Playing audio\n",
    "play_video(audio_player)  # No output, no exception\n",
    "\n",
    "play_audio(media_player)  # Output: Playing audio\n",
    "play_video(media_player)  # Output: Playing video\n"
   ]
  }
 ],
 "metadata": {
  "kernelspec": {
   "display_name": "test-env",
   "language": "python",
   "name": "python3"
  },
  "language_info": {
   "codemirror_mode": {
    "name": "ipython",
    "version": 3
   },
   "file_extension": ".py",
   "mimetype": "text/x-python",
   "name": "python",
   "nbconvert_exporter": "python",
   "pygments_lexer": "ipython3",
   "version": "3.10.14"
  }
 },
 "nbformat": 4,
 "nbformat_minor": 2
}
