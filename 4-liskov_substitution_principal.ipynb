{
 "cells": [
  {
   "cell_type": "markdown",
   "metadata": {},
   "source": [
    "3. Liskov Substitution Principle (LSP)\n",
    "\n",
    "Subtypes must be substitutable for their base types without altering the correctness of the program.\n",
    "\n"
   ]
  },
  {
   "cell_type": "code",
   "execution_count": 4,
   "metadata": {},
   "outputs": [
    {
     "name": "stdout",
     "output_type": "stream",
     "text": [
      "Sparrow is flying\n",
      "Penguin is non-flying Bird...\n"
     ]
    }
   ],
   "source": [
    "# Bad Example: Subclass changes behavior of base class\n",
    "class Bird:\n",
    "    def fly(self):\n",
    "        pass\n",
    "\n",
    "class Penguin(Bird):\n",
    "    def fly(self):\n",
    "        raise NotImplementedError(\"Penguins can't fly\")\n",
    "\n",
    "# Good Example: Using a more appropriate base class\n",
    "class Bird:\n",
    "    pass\n",
    "\n",
    "class FlyingBird(Bird):\n",
    "    def fly(self):\n",
    "        pass\n",
    "\n",
    "class Sparrow(FlyingBird):\n",
    "    def fly(self):\n",
    "        print(\"Sparrow is flying\")\n",
    "\n",
    "class Penguin(Bird):\n",
    "    def swim(self):\n",
    "        print(\"Penguin is swimming\")\n",
    "\n",
    "# Usage\n",
    "def make_bird_fly(bird):\n",
    "    if isinstance(bird, FlyingBird):\n",
    "        bird.fly()\n",
    "    else:\n",
    "        print(f\"{type(bird).__name__} is non-flying Bird...\")\n",
    "\n",
    "sparrow = Sparrow()\n",
    "penguin = Penguin()\n",
    "make_bird_fly(sparrow)\n",
    "make_bird_fly(penguin)  # Penguin will not fly, adhering to LSP\n"
   ]
  },
  {
   "cell_type": "code",
   "execution_count": 5,
   "metadata": {},
   "outputs": [
    {
     "name": "stdout",
     "output_type": "stream",
     "text": [
      "Area: 20\n",
      "Area: 25\n"
     ]
    }
   ],
   "source": [
    "class Rectangle:\n",
    "    def __init__(self, width, height):\n",
    "        self.width = width\n",
    "        self.height = height\n",
    "\n",
    "    def set_width(self, width):\n",
    "        self.width = width\n",
    "\n",
    "    def set_height(self, height):\n",
    "        self.height = height\n",
    "\n",
    "    def area(self):\n",
    "        return self.width * self.height\n",
    "\n",
    "\n",
    "class Square(Rectangle):\n",
    "    def set_width(self, width):\n",
    "        self.width = width\n",
    "        self.height = width\n",
    "\n",
    "    def set_height(self, height):\n",
    "        self.width = height\n",
    "        self.height = height\n",
    "\n",
    "\n",
    "# Usage\n",
    "def print_area(rect):\n",
    "    rect.set_width(4)\n",
    "    rect.set_height(5)\n",
    "    print(f\"Area: {rect.area()}\")\n",
    "\n",
    "rect = Rectangle(2, 3)\n",
    "print_area(rect)  # Output: Area: 20\n",
    "\n",
    "square = Square(2, 2)\n",
    "print_area(square)  # Output: Area: 25 (Incorrect behavior)\n"
   ]
  },
  {
   "cell_type": "code",
   "execution_count": 6,
   "metadata": {},
   "outputs": [
    {
     "name": "stdout",
     "output_type": "stream",
     "text": [
      "Area: 20\n",
      "Area: 16\n"
     ]
    }
   ],
   "source": [
    "class Shape:\n",
    "    def area(self):\n",
    "        pass\n",
    "\n",
    "class Rectangle(Shape):\n",
    "    def __init__(self, width, height):\n",
    "        self.width = width\n",
    "        self.height = height\n",
    "\n",
    "    def area(self):\n",
    "        return self.width * self.height\n",
    "\n",
    "class Square(Shape):\n",
    "    def __init__(self, side):\n",
    "        self.side = side\n",
    "\n",
    "    def area(self):\n",
    "        return self.side * self.side\n",
    "\n",
    "# Usage\n",
    "def print_area(shape):\n",
    "    print(f\"Area: {shape.area()}\")\n",
    "\n",
    "rect = Rectangle(4, 5)\n",
    "print_area(rect)  # Output: Area: 20\n",
    "\n",
    "square = Square(4)\n",
    "print_area(square)  # Output: Area: 16\n"
   ]
  },
  {
   "cell_type": "code",
   "execution_count": 7,
   "metadata": {},
   "outputs": [
    {
     "ename": "Exception",
     "evalue": "Electric cars don't have engines",
     "output_type": "error",
     "traceback": [
      "\u001b[0;31m---------------------------------------------------------------------------\u001b[0m",
      "\u001b[0;31mException\u001b[0m                                 Traceback (most recent call last)",
      "Cell \u001b[0;32mIn[7], line 17\u001b[0m\n\u001b[1;32m     14\u001b[0m start_car_engine(car)  \u001b[38;5;66;03m# Works fine\u001b[39;00m\n\u001b[1;32m     16\u001b[0m electric_car \u001b[38;5;241m=\u001b[39m ElectricCar()\n\u001b[0;32m---> 17\u001b[0m \u001b[43mstart_car_engine\u001b[49m\u001b[43m(\u001b[49m\u001b[43melectric_car\u001b[49m\u001b[43m)\u001b[49m  \u001b[38;5;66;03m# Raises exception\u001b[39;00m\n",
      "Cell \u001b[0;32mIn[7], line 11\u001b[0m, in \u001b[0;36mstart_car_engine\u001b[0;34m(car)\u001b[0m\n\u001b[1;32m     10\u001b[0m \u001b[38;5;28;01mdef\u001b[39;00m \u001b[38;5;21mstart_car_engine\u001b[39m(car):\n\u001b[0;32m---> 11\u001b[0m     \u001b[43mcar\u001b[49m\u001b[38;5;241;43m.\u001b[39;49m\u001b[43mstart_engine\u001b[49m\u001b[43m(\u001b[49m\u001b[43m)\u001b[49m\n",
      "Cell \u001b[0;32mIn[7], line 7\u001b[0m, in \u001b[0;36mElectricCar.start_engine\u001b[0;34m(self)\u001b[0m\n\u001b[1;32m      6\u001b[0m \u001b[38;5;28;01mdef\u001b[39;00m \u001b[38;5;21mstart_engine\u001b[39m(\u001b[38;5;28mself\u001b[39m):\n\u001b[0;32m----> 7\u001b[0m     \u001b[38;5;28;01mraise\u001b[39;00m \u001b[38;5;167;01mException\u001b[39;00m(\u001b[38;5;124m\"\u001b[39m\u001b[38;5;124mElectric cars don\u001b[39m\u001b[38;5;124m'\u001b[39m\u001b[38;5;124mt have engines\u001b[39m\u001b[38;5;124m\"\u001b[39m)\n",
      "\u001b[0;31mException\u001b[0m: Electric cars don't have engines"
     ]
    }
   ],
   "source": [
    "class Car:\n",
    "    def start_engine(self):\n",
    "        pass\n",
    "\n",
    "class ElectricCar(Car):\n",
    "    def start_engine(self):\n",
    "        raise Exception(\"Electric cars don't have engines\")\n",
    "\n",
    "# Usage\n",
    "def start_car_engine(car):\n",
    "    car.start_engine()\n",
    "\n",
    "car = Car()\n",
    "start_car_engine(car)  # Works fine\n",
    "\n",
    "electric_car = ElectricCar()\n",
    "start_car_engine(electric_car)  # Raises exception\n"
   ]
  },
  {
   "cell_type": "code",
   "execution_count": 8,
   "metadata": {},
   "outputs": [
    {
     "name": "stdout",
     "output_type": "stream",
     "text": [
      "Starting engine\n",
      "Starting electric motor\n"
     ]
    }
   ],
   "source": [
    "class Vehicle:\n",
    "    def start(self):\n",
    "        pass\n",
    "\n",
    "class Car(Vehicle):\n",
    "    def start(self):\n",
    "        print(\"Starting engine\")\n",
    "\n",
    "class ElectricCar(Vehicle):\n",
    "    def start(self):\n",
    "        print(\"Starting electric motor\")\n",
    "\n",
    "# Usage\n",
    "def start_vehicle(vehicle):\n",
    "    vehicle.start()\n",
    "\n",
    "car = Car()\n",
    "start_vehicle(car)  # Output: Starting engine\n",
    "\n",
    "electric_car = ElectricCar()\n",
    "start_vehicle(electric_car)  # Output: Starting electric motor\n"
   ]
  },
  {
   "cell_type": "code",
   "execution_count": null,
   "metadata": {},
   "outputs": [],
   "source": [
    "class Bird:\n",
    "    def fly(self):\n",
    "        pass\n",
    "\n",
    "class Penguin(Bird):\n",
    "    def fly(self):\n",
    "        raise Exception(\"Penguins can't fly\")\n",
    "\n",
    "# Usage\n",
    "def make_bird_fly(bird):\n",
    "    bird.fly()\n",
    "\n",
    "sparrow = Bird()\n",
    "make_bird_fly(sparrow)  # Works fine\n",
    "\n",
    "penguin = Penguin()\n",
    "make_bird_fly(penguin)  # Raises exception\n"
   ]
  },
  {
   "cell_type": "code",
   "execution_count": 9,
   "metadata": {},
   "outputs": [
    {
     "name": "stdout",
     "output_type": "stream",
     "text": [
      "Sparrow is flying\n",
      "Penguin is swimming\n"
     ]
    }
   ],
   "source": [
    "class Bird:\n",
    "    pass\n",
    "\n",
    "class FlyingBird(Bird):\n",
    "    def fly(self):\n",
    "        pass\n",
    "\n",
    "class Sparrow(FlyingBird):\n",
    "    def fly(self):\n",
    "        print(\"Sparrow is flying\")\n",
    "\n",
    "class Penguin(Bird):\n",
    "    def swim(self):\n",
    "        print(\"Penguin is swimming\")\n",
    "\n",
    "# Usage\n",
    "def make_flying_bird_fly(bird):\n",
    "    bird.fly()\n",
    "\n",
    "sparrow = Sparrow()\n",
    "make_flying_bird_fly(sparrow)  # Output: Sparrow is flying\n",
    "\n",
    "def make_penguin_swim(bird):\n",
    "    bird.swim()\n",
    "\n",
    "penguin = Penguin()\n",
    "make_penguin_swim(penguin)  # Output: Penguin is swimming\n"
   ]
  },
  {
   "cell_type": "code",
   "execution_count": 10,
   "metadata": {},
   "outputs": [
    {
     "name": "stdout",
     "output_type": "stream",
     "text": [
      "Playing audio\n"
     ]
    },
    {
     "ename": "Exception",
     "evalue": "AudioPlayer cannot play video",
     "output_type": "error",
     "traceback": [
      "\u001b[0;31m---------------------------------------------------------------------------\u001b[0m",
      "\u001b[0;31mException\u001b[0m                                 Traceback (most recent call last)",
      "Cell \u001b[0;32mIn[10], line 21\u001b[0m\n\u001b[1;32m     18\u001b[0m     player\u001b[38;5;241m.\u001b[39mplay_video()\n\u001b[1;32m     20\u001b[0m audio_player \u001b[38;5;241m=\u001b[39m AudioPlayer()\n\u001b[0;32m---> 21\u001b[0m \u001b[43mplay_media\u001b[49m\u001b[43m(\u001b[49m\u001b[43maudio_player\u001b[49m\u001b[43m)\u001b[49m  \u001b[38;5;66;03m# Raises exception\u001b[39;00m\n",
      "Cell \u001b[0;32mIn[10], line 18\u001b[0m, in \u001b[0;36mplay_media\u001b[0;34m(player)\u001b[0m\n\u001b[1;32m     16\u001b[0m \u001b[38;5;28;01mdef\u001b[39;00m \u001b[38;5;21mplay_media\u001b[39m(player):\n\u001b[1;32m     17\u001b[0m     player\u001b[38;5;241m.\u001b[39mplay_audio()\n\u001b[0;32m---> 18\u001b[0m     \u001b[43mplayer\u001b[49m\u001b[38;5;241;43m.\u001b[39;49m\u001b[43mplay_video\u001b[49m\u001b[43m(\u001b[49m\u001b[43m)\u001b[49m\n",
      "Cell \u001b[0;32mIn[10], line 13\u001b[0m, in \u001b[0;36mAudioPlayer.play_video\u001b[0;34m(self)\u001b[0m\n\u001b[1;32m     12\u001b[0m \u001b[38;5;28;01mdef\u001b[39;00m \u001b[38;5;21mplay_video\u001b[39m(\u001b[38;5;28mself\u001b[39m):\n\u001b[0;32m---> 13\u001b[0m     \u001b[38;5;28;01mraise\u001b[39;00m \u001b[38;5;167;01mException\u001b[39;00m(\u001b[38;5;124m\"\u001b[39m\u001b[38;5;124mAudioPlayer cannot play video\u001b[39m\u001b[38;5;124m\"\u001b[39m)\n",
      "\u001b[0;31mException\u001b[0m: AudioPlayer cannot play video"
     ]
    }
   ],
   "source": [
    "class MediaPlayer:\n",
    "    def play_audio(self):\n",
    "        pass\n",
    "\n",
    "    def play_video(self):\n",
    "        pass\n",
    "\n",
    "class AudioPlayer(MediaPlayer):\n",
    "    def play_audio(self):\n",
    "        print(\"Playing audio\")\n",
    "\n",
    "    def play_video(self):\n",
    "        raise Exception(\"AudioPlayer cannot play video\")\n",
    "\n",
    "# Usage\n",
    "def play_media(player):\n",
    "    player.play_audio()\n",
    "    player.play_video()\n",
    "\n",
    "audio_player = AudioPlayer()\n",
    "play_media(audio_player)  # Raises exception\n"
   ]
  },
  {
   "cell_type": "code",
   "execution_count": 11,
   "metadata": {},
   "outputs": [
    {
     "name": "stdout",
     "output_type": "stream",
     "text": [
      "Playing audio\n",
      "Playing video\n"
     ]
    }
   ],
   "source": [
    "class MediaPlayer:\n",
    "    pass\n",
    "\n",
    "class AudioPlayer(MediaPlayer):\n",
    "    def play_audio(self):\n",
    "        print(\"Playing audio\")\n",
    "\n",
    "class VideoPlayer(MediaPlayer):\n",
    "    def play_video(self):\n",
    "        print(\"Playing video\")\n",
    "\n",
    "# Usage\n",
    "def play_audio(player):\n",
    "    player.play_audio()\n",
    "\n",
    "def play_video(player):\n",
    "    player.play_video()\n",
    "\n",
    "audio_player = AudioPlayer()\n",
    "play_audio(audio_player)  # Output: Playing audio\n",
    "\n",
    "video_player = VideoPlayer()\n",
    "play_video(video_player)  # Output: Playing video\n"
   ]
  },
  {
   "cell_type": "code",
   "execution_count": null,
   "metadata": {},
   "outputs": [],
   "source": []
  }
 ],
 "metadata": {
  "kernelspec": {
   "display_name": "test-env",
   "language": "python",
   "name": "python3"
  },
  "language_info": {
   "codemirror_mode": {
    "name": "ipython",
    "version": 3
   },
   "file_extension": ".py",
   "mimetype": "text/x-python",
   "name": "python",
   "nbconvert_exporter": "python",
   "pygments_lexer": "ipython3",
   "version": "3.10.14"
  }
 },
 "nbformat": 4,
 "nbformat_minor": 2
}
