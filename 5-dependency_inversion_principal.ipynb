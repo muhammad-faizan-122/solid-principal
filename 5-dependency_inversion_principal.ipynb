{
 "cells": [
  {
   "cell_type": "markdown",
   "metadata": {},
   "source": [
    "5. Dependency Inversion Principle (DIP)\n",
    "\n",
    "\n",
    "High-level modules should not depend on low-level modules. Both should depend on abstractions. Abstractions should not depend on details. Details should depend on abstractions."
   ]
  },
  {
   "cell_type": "code",
   "execution_count": null,
   "metadata": {},
   "outputs": [],
   "source": [
    "# Bad Example: High-level module depends on low-level module\n",
    "class MySQLDatabase:\n",
    "    def connect(self):\n",
    "        print(\"Connecting to MySQL database\")\n",
    "\n",
    "class Application:\n",
    "    def __init__(self):\n",
    "        self.db = MySQLDatabase()\n",
    "\n",
    "    def perform_db_operations(self):\n",
    "        self.db.connect()\n"
   ]
  },
  {
   "cell_type": "code",
   "execution_count": null,
   "metadata": {},
   "outputs": [],
   "source": [
    "\n",
    "# Good Example: High-level module depends on abstraction\n",
    "class Database:\n",
    "    def connect(self):\n",
    "        pass\n",
    "\n",
    "\n",
    "class MySQLDatabase(Database):\n",
    "    def connect(self):\n",
    "        print(\"Connecting to MySQL database\")\n",
    "\n",
    "\n",
    "class MongoDBDatabase(Database):\n",
    "    def connect(self):\n",
    "        print(\"Connecting to MongoDB database\")\n",
    "\n",
    "\n",
    "class Application:\n",
    "    def __init__(self, db: Database):\n",
    "        self.db = db\n",
    "\n",
    "    def perform_db_operations(self):\n",
    "        self.db.connect()\n"
   ]
  },
  {
   "cell_type": "code",
   "execution_count": 1,
   "metadata": {},
   "outputs": [
    {
     "name": "stdout",
     "output_type": "stream",
     "text": [
      "Sending email: Welcome to our service!\n"
     ]
    }
   ],
   "source": [
    "class EmailSender:\n",
    "    def send(self, message):\n",
    "        print(f\"Sending email: {message}\")\n",
    "\n",
    "class UserNotification:\n",
    "    def __init__(self):\n",
    "        self.email_sender = EmailSender()\n",
    "\n",
    "    def notify(self, message):\n",
    "        self.email_sender.send(message)\n",
    "\n",
    "# Usage\n",
    "notification = UserNotification()\n",
    "notification.notify(\"Welcome to our service!\")\n",
    "\"\"\"\n",
    "In this example, the UserNotification class depends directly on the EmailSender class. \n",
    "If you wanted to send notifications via SMS or another method, you'd need to modify the UserNotification class.\n",
    "\"\"\"\n"
   ]
  },
  {
   "cell_type": "code",
   "execution_count": 2,
   "metadata": {},
   "outputs": [
    {
     "name": "stdout",
     "output_type": "stream",
     "text": [
      "Sending email: Welcome to our service!\n",
      "Sending SMS: Welcome to our service!\n"
     ]
    },
    {
     "data": {
      "text/plain": [
       "'\\nIn the good example, UserNotification depends on the MessageSender interface, which can be implemented by different classes. \\nThis makes it easy to extend the system without modifying the existing code.\\n'"
      ]
     },
     "execution_count": 2,
     "metadata": {},
     "output_type": "execute_result"
    }
   ],
   "source": [
    "from abc import ABC, abstractmethod\n",
    "\n",
    "\n",
    "class MessageSender(ABC):\n",
    "    @abstractmethod\n",
    "    def send(self, message):\n",
    "        pass\n",
    "\n",
    "class EmailSender(MessageSender):\n",
    "    def send(self, message):\n",
    "        print(f\"Sending email: {message}\")\n",
    "\n",
    "class SMSSender(MessageSender):\n",
    "    def send(self, message):\n",
    "        print(f\"Sending SMS: {message}\")\n",
    "\n",
    "class UserNotification:\n",
    "    def __init__(self, sender: MessageSender):\n",
    "        self.sender = sender\n",
    "\n",
    "    def notify(self, message):\n",
    "        self.sender.send(message)\n",
    "\n",
    "# Usage\n",
    "email_sender = EmailSender()\n",
    "sms_sender = SMSSender()\n",
    "\n",
    "notification = UserNotification(email_sender)\n",
    "notification.notify(\"Welcome to our service!\")  # Output: Sending email: Welcome to our service!\n",
    "\n",
    "notification = UserNotification(sms_sender)\n",
    "notification.notify(\"Welcome to our service!\")  # Output: Sending SMS: Welcome to our service!\n",
    "\n",
    "\n",
    "\"\"\"\n",
    "In the good example, UserNotification depends on the MessageSender interface, which can be implemented by different classes. \n",
    "This makes it easy to extend the system without modifying the existing code.\n",
    "\"\"\""
   ]
  },
  {
   "cell_type": "code",
   "execution_count": 3,
   "metadata": {},
   "outputs": [
    {
     "name": "stdout",
     "output_type": "stream",
     "text": [
      "Storing data in MySQL database\n"
     ]
    }
   ],
   "source": [
    "# Here, the DataStorage class is tightly coupled to the MySQLDatabase class. If you wanted to switch to a different database (e.g., PostgreSQL), you'd need to change the DataStorage class.\n",
    "\n",
    "\n",
    "class MySQLDatabase:\n",
    "    def store(self, data):\n",
    "        print(\"Storing data in MySQL database\")\n",
    "\n",
    "class DataStorage:\n",
    "    def __init__(self):\n",
    "        self.database = MySQLDatabase()\n",
    "\n",
    "    def store_data(self, data):\n",
    "        self.database.store(data)\n",
    "\n",
    "# Usage\n",
    "storage = DataStorage()\n",
    "storage.store_data(\"Sample Data\")\n"
   ]
  },
  {
   "cell_type": "code",
   "execution_count": 6,
   "metadata": {},
   "outputs": [
    {
     "name": "stdout",
     "output_type": "stream",
     "text": [
      "Data stored ...\n"
     ]
    }
   ],
   "source": [
    "from abc import ABC, abstractmethod\n",
    "\n",
    "\n",
    "class Database:\n",
    "    @abstractmethod\n",
    "    def store(self, data):\n",
    "        pass\n",
    "\n",
    "\n",
    "class MySQLDatabase(Database):\n",
    "    def store(self, data):\n",
    "        print(\"store data in Mysql db\")\n",
    "\n",
    "\n",
    "class NonSQLDatabase(Database):\n",
    "    def store(self, data):\n",
    "        print(\"store data in non-sql db\")\n",
    "\n",
    "\n",
    "class DataStorage:\n",
    "\n",
    "    def __init__(self, db: Database) -> None:\n",
    "        self.db = db\n",
    "\n",
    "    def store(self, data):\n",
    "        print(\"Data stored ...\")\n",
    "\n",
    "\n",
    "data = \"Hello world!\"\n",
    "non_sql_db = NonSQLDatabase()\n",
    "DataStorage(non_sql_db).store(data)"
   ]
  },
  {
   "cell_type": "code",
   "execution_count": 8,
   "metadata": {},
   "outputs": [],
   "source": [
    "from abc import ABC, abstractmethod\n",
    "\n",
    "class Logger:\n",
    "    @abstractmethod\n",
    "    def log(self, msg) -> None:\n",
    "        pass\n",
    "\n",
    "class FileLogger(Logger):\n",
    "    def log(self, msg):\n",
    "        with open(\"logfile.txt\", \"a\") as file:\n",
    "            file.write(msg + \"\\n\")\n",
    "\n",
    "class DBLogger(Logger):\n",
    "    def log(self, msg):\n",
    "        print(\"msg logged for db...\")\n",
    "\n",
    "\n",
    "class Application:\n",
    "    def __init__(self):\n",
    "        self.logger = FileLogger()\n",
    "\n",
    "    def do_something(self):\n",
    "        self.logger.log(\"Doing something\")\n",
    "\n",
    "# Usage\n",
    "app = Application()\n",
    "app.do_something()\n"
   ]
  },
  {
   "cell_type": "code",
   "execution_count": null,
   "metadata": {},
   "outputs": [],
   "source": []
  }
 ],
 "metadata": {
  "kernelspec": {
   "display_name": "test-env",
   "language": "python",
   "name": "python3"
  },
  "language_info": {
   "codemirror_mode": {
    "name": "ipython",
    "version": 3
   },
   "file_extension": ".py",
   "mimetype": "text/x-python",
   "name": "python",
   "nbconvert_exporter": "python",
   "pygments_lexer": "ipython3",
   "version": "3.10.14"
  }
 },
 "nbformat": 4,
 "nbformat_minor": 2
}
