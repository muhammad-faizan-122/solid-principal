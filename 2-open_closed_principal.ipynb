{
 "cells": [
  {
   "cell_type": "markdown",
   "metadata": {},
   "source": [
    "2. Open/Closed Principle (OCP):\n",
    "\n",
    "Software entities (classes, modules, functions, etc.) should be open for extension but closed for modification."
   ]
  },
  {
   "cell_type": "code",
   "execution_count": 2,
   "metadata": {},
   "outputs": [],
   "source": [
    "\"\"\"Bad Example: Modifying the class to add new behavior\"\"\"\n",
    "class Rectangle:\n",
    "    def __init__(self, width, height):\n",
    "        self.width = width\n",
    "        self.height = height\n",
    "\n",
    "    def area(self):\n",
    "        return self.width * self.height\n",
    "    \n"
   ]
  },
  {
   "cell_type": "code",
   "execution_count": 11,
   "metadata": {},
   "outputs": [
    {
     "name": "stdout",
     "output_type": "stream",
     "text": [
      "Area of Rectangle: 6\n",
      "Area of Circle: 50.24\n"
     ]
    }
   ],
   "source": [
    "# Good Example: Extending the class using inheritance\n",
    "class Shape:\n",
    "    def area(self):\n",
    "        pass\n",
    "\n",
    "class Rectangle(Shape):\n",
    "    def __init__(self, width, height):\n",
    "        self.width = width\n",
    "        self.height = height\n",
    "\n",
    "    def area(self):\n",
    "        return self.width * self.height\n",
    "    \n",
    "class Circle(Shape):\n",
    "    def __init__(self, radius):\n",
    "        self.radius = radius\n",
    "\n",
    "    def area(self):\n",
    "        return 3.14 * self.radius * self.radius\n",
    "\n",
    "\n",
    "shapes = [\n",
    "    Rectangle(2, 3),\n",
    "    Circle(4)\n",
    "]\n",
    "\n",
    "for shape in shapes:\n",
    "    area = shape.area()\n",
    "    print(f\"Area of {type(shape).__name__}: {area}\")"
   ]
  },
  {
   "cell_type": "code",
   "execution_count": 12,
   "metadata": {},
   "outputs": [
    {
     "name": "stdout",
     "output_type": "stream",
     "text": [
      "Processing credit card payment of 100\n",
      "Processing PayPal payment of 200\n",
      "Processing Bitcoin payment of 300\n"
     ]
    }
   ],
   "source": [
    "class PaymentProcessor:\n",
    "    def process_payment(self, payment_type, amount):\n",
    "        if payment_type == \"credit_card\":\n",
    "            self.process_credit_card(amount)\n",
    "        elif payment_type == \"paypal\":\n",
    "            self.process_paypal(amount)\n",
    "        # Adding a new payment method requires modifying this method\n",
    "        elif payment_type == \"bitcoin\":\n",
    "            self.process_bitcoin(amount)\n",
    "\n",
    "    def process_credit_card(self, amount):\n",
    "        print(f\"Processing credit card payment of {amount}\")\n",
    "\n",
    "    def process_paypal(self, amount):\n",
    "        print(f\"Processing PayPal payment of {amount}\")\n",
    "\n",
    "    def process_bitcoin(self, amount):\n",
    "        print(f\"Processing Bitcoin payment of {amount}\")\n",
    "\n",
    "# Usage\n",
    "processor = PaymentProcessor()\n",
    "processor.process_payment(\"credit_card\", 100)\n",
    "processor.process_payment(\"paypal\", 200)\n",
    "processor.process_payment(\"bitcoin\", 300)\n"
   ]
  },
  {
   "cell_type": "code",
   "execution_count": null,
   "metadata": {},
   "outputs": [],
   "source": [
    "class PaymentProcessor:\n",
    "    def process(self, payment):\n",
    "        pass\n",
    "\n",
    "\n",
    "class CreditCard(PaymentProcessor):\n",
    "\n",
    "    def process(self, payment):\n",
    "        pass\n",
    "\n",
    "\n",
    "class Paypal(PaymentProcessor):\n",
    "    def process(self, payment):\n",
    "        pass\n",
    "\n",
    "class Bitcoin(PaymentProcessor):\n",
    "    def process(self, payment):\n",
    "        pass\n"
   ]
  },
  {
   "cell_type": "code",
   "execution_count": 13,
   "metadata": {},
   "outputs": [
    {
     "name": "stdout",
     "output_type": "stream",
     "text": [
      "Processing credit card payment of 100\n",
      "Processing PayPal payment of 200\n",
      "Processing Bitcoin payment of 300\n"
     ]
    }
   ],
   "source": [
    "class PaymentProcessor:\n",
    "    def process_payment(self, payment):\n",
    "        payment.process()\n",
    "\n",
    "class Payment:\n",
    "    def process(self):\n",
    "        pass\n",
    "\n",
    "class CreditCardPayment(Payment):\n",
    "    def __init__(self, amount):\n",
    "        self.amount = amount\n",
    "\n",
    "    def process(self):\n",
    "        print(f\"Processing credit card payment of {self.amount}\")\n",
    "\n",
    "class PayPalPayment(Payment):\n",
    "    def __init__(self, amount):\n",
    "        self.amount = amount\n",
    "\n",
    "    def process(self):\n",
    "        print(f\"Processing PayPal payment of {self.amount}\")\n",
    "\n",
    "class BitcoinPayment(Payment):\n",
    "    def __init__(self, amount):\n",
    "        self.amount = amount\n",
    "\n",
    "    def process(self):\n",
    "        print(f\"Processing Bitcoin payment of {self.amount}\")\n",
    "\n",
    "# Usage\n",
    "processor = PaymentProcessor()\n",
    "credit_card_payment = CreditCardPayment(100)\n",
    "paypal_payment = PayPalPayment(200)\n",
    "bitcoin_payment = BitcoinPayment(300)\n",
    "\n",
    "processor.process_payment(credit_card_payment)\n",
    "processor.process_payment(paypal_payment)\n",
    "processor.process_payment(bitcoin_payment)\n"
   ]
  },
  {
   "cell_type": "code",
   "execution_count": 14,
   "metadata": {},
   "outputs": [
    {
     "name": "stdout",
     "output_type": "stream",
     "text": [
      "78.5\n",
      "24\n",
      "6.0\n"
     ]
    }
   ],
   "source": [
    "class AreaCalculator:\n",
    "    def calculate_area(self, shape):\n",
    "        if shape[\"type\"] == \"circle\":\n",
    "            return 3.14 * shape[\"radius\"] ** 2\n",
    "        elif shape[\"type\"] == \"rectangle\":\n",
    "            return shape[\"width\"] * shape[\"height\"]\n",
    "        # Adding a new shape requires modifying this method\n",
    "        elif shape[\"type\"] == \"triangle\":\n",
    "            return 0.5 * shape[\"base\"] * shape[\"height\"]\n",
    "\n",
    "# Usage\n",
    "calculator = AreaCalculator()\n",
    "circle = {\"type\": \"circle\", \"radius\": 5}\n",
    "rectangle = {\"type\": \"rectangle\", \"width\": 4, \"height\": 6}\n",
    "triangle = {\"type\": \"triangle\", \"base\": 3, \"height\": 4}\n",
    "\n",
    "print(calculator.calculate_area(circle))\n",
    "print(calculator.calculate_area(rectangle))\n",
    "print(calculator.calculate_area(triangle))"
   ]
  },
  {
   "cell_type": "code",
   "execution_count": 15,
   "metadata": {},
   "outputs": [
    {
     "name": "stdout",
     "output_type": "stream",
     "text": [
      "78.5\n",
      "24\n",
      "6.0\n"
     ]
    }
   ],
   "source": [
    "class Shape:\n",
    "    def area(self):\n",
    "        pass\n",
    "\n",
    "class Circle(Shape):\n",
    "    def __init__(self, radius):\n",
    "        self.radius = radius\n",
    "\n",
    "    def area(self):\n",
    "        return 3.14 * self.radius ** 2\n",
    "\n",
    "class Rectangle(Shape):\n",
    "    def __init__(self, width, height):\n",
    "        self.width = width\n",
    "        self.height = height\n",
    "\n",
    "    def area(self):\n",
    "        return self.width * self.height\n",
    "\n",
    "class Triangle(Shape):\n",
    "    def __init__(self, base, height):\n",
    "        self.base = base\n",
    "        self.height = height\n",
    "\n",
    "    def area(self):\n",
    "        return 0.5 * self.base * self.height\n",
    "\n",
    "class AreaCalculator:\n",
    "    def calculate_area(self, shape):\n",
    "        return shape.area()\n",
    "\n",
    "# Usage\n",
    "calculator = AreaCalculator()\n",
    "circle = Circle(5)\n",
    "rectangle = Rectangle(4, 6)\n",
    "triangle = Triangle(3, 4)\n",
    "\n",
    "print(calculator.calculate_area(circle))\n",
    "print(calculator.calculate_area(rectangle))\n",
    "print(calculator.calculate_area(triangle))\n"
   ]
  }
 ],
 "metadata": {
  "kernelspec": {
   "display_name": "test-env",
   "language": "python",
   "name": "python3"
  },
  "language_info": {
   "codemirror_mode": {
    "name": "ipython",
    "version": 3
   },
   "file_extension": ".py",
   "mimetype": "text/x-python",
   "name": "python",
   "nbconvert_exporter": "python",
   "pygments_lexer": "ipython3",
   "version": "3.10.14"
  }
 },
 "nbformat": 4,
 "nbformat_minor": 2
}
